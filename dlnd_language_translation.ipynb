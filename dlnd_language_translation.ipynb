{
 "cells": [
  {
   "cell_type": "markdown",
   "metadata": {
    "collapsed": true
   },
   "source": [
    "# Language Translation\n",
    "In this project, you’re going to take a peek into the realm of neural network machine translation.  You’ll be training a sequence to sequence model on a dataset of English and French sentences that can translate new sentences from English to French.\n",
    "## Get the Data\n",
    "Since translating the whole language of English to French will take lots of time to train, we have provided you with a small portion of the English corpus."
   ]
  },
  {
   "cell_type": "code",
   "execution_count": 1,
   "metadata": {
    "collapsed": true
   },
   "outputs": [],
   "source": [
    "\"\"\"\n",
    "DON'T MODIFY ANYTHING IN THIS CELL\n",
    "\"\"\"\n",
    "import helper\n",
    "import problem_unittests as tests\n",
    "\n",
    "source_path = 'data/small_vocab_en'\n",
    "target_path = 'data/small_vocab_fr'\n",
    "source_text = helper.load_data(source_path)\n",
    "target_text = helper.load_data(target_path)"
   ]
  },
  {
   "cell_type": "markdown",
   "metadata": {},
   "source": [
    "## Explore the Data\n",
    "Play around with view_sentence_range to view different parts of the data."
   ]
  },
  {
   "cell_type": "code",
   "execution_count": 2,
   "metadata": {},
   "outputs": [
    {
     "name": "stdout",
     "output_type": "stream",
     "text": [
      "Dataset Stats\n",
      "Roughly the number of unique words: 227\n",
      "Number of sentences: 137861\n",
      "Average number of words in a sentence: 13.225277634719028\n",
      "\n",
      "English sentences 0 to 10:\n",
      "new jersey is sometimes quiet during autumn , and it is snowy in april .\n",
      "the united states is usually chilly during july , and it is usually freezing in november .\n",
      "california is usually quiet during march , and it is usually hot in june .\n",
      "the united states is sometimes mild during june , and it is cold in september .\n",
      "your least liked fruit is the grape , but my least liked is the apple .\n",
      "his favorite fruit is the orange , but my favorite is the grape .\n",
      "paris is relaxing during december , but it is usually chilly in july .\n",
      "new jersey is busy during spring , and it is never hot in march .\n",
      "our least liked fruit is the lemon , but my least liked is the grape .\n",
      "the united states is sometimes busy during january , and it is sometimes warm in november .\n",
      "\n",
      "French sentences 0 to 10:\n",
      "new jersey est parfois calme pendant l' automne , et il est neigeux en avril .\n",
      "les états-unis est généralement froid en juillet , et il gèle habituellement en novembre .\n",
      "california est généralement calme en mars , et il est généralement chaud en juin .\n",
      "les états-unis est parfois légère en juin , et il fait froid en septembre .\n",
      "votre moins aimé fruit est le raisin , mais mon moins aimé est la pomme .\n",
      "son fruit préféré est l'orange , mais mon préféré est le raisin .\n",
      "paris est relaxant en décembre , mais il est généralement froid en juillet .\n",
      "new jersey est occupé au printemps , et il est jamais chaude en mars .\n",
      "notre fruit est moins aimé le citron , mais mon moins aimé est le raisin .\n",
      "les états-unis est parfois occupé en janvier , et il est parfois chaud en novembre .\n"
     ]
    }
   ],
   "source": [
    "view_sentence_range = (0, 10)\n",
    "\n",
    "\"\"\"\n",
    "DON'T MODIFY ANYTHING IN THIS CELL\n",
    "\"\"\"\n",
    "import numpy as np\n",
    "\n",
    "print('Dataset Stats')\n",
    "print('Roughly the number of unique words: {}'.format(len({word: None for word in source_text.split()})))\n",
    "\n",
    "sentences = source_text.split('\\n')\n",
    "word_counts = [len(sentence.split()) for sentence in sentences]\n",
    "print('Number of sentences: {}'.format(len(sentences)))\n",
    "print('Average number of words in a sentence: {}'.format(np.average(word_counts)))\n",
    "\n",
    "print()\n",
    "print('English sentences {} to {}:'.format(*view_sentence_range))\n",
    "print('\\n'.join(source_text.split('\\n')[view_sentence_range[0]:view_sentence_range[1]]))\n",
    "print()\n",
    "print('French sentences {} to {}:'.format(*view_sentence_range))\n",
    "print('\\n'.join(target_text.split('\\n')[view_sentence_range[0]:view_sentence_range[1]]))"
   ]
  },
  {
   "cell_type": "markdown",
   "metadata": {},
   "source": [
    "## Implement Preprocessing Function\n",
    "### Text to Word Ids\n",
    "As you did with other RNNs, you must turn the text into a number so the computer can understand it. In the function `text_to_ids()`, you'll turn `source_text` and `target_text` from words to ids.  However, you need to add the `<EOS>` word id at the end of `target_text`.  This will help the neural network predict when the sentence should end.\n",
    "\n",
    "You can get the `<EOS>` word id by doing:\n",
    "```python\n",
    "target_vocab_to_int['<EOS>']\n",
    "```\n",
    "You can get other word ids using `source_vocab_to_int` and `target_vocab_to_int`."
   ]
  },
  {
   "cell_type": "code",
   "execution_count": 3,
   "metadata": {},
   "outputs": [
    {
     "name": "stdout",
     "output_type": "stream",
     "text": [
      "Tests Passed\n"
     ]
    }
   ],
   "source": [
    "def text_to_ids(source_text, target_text, source_vocab_to_int, target_vocab_to_int):\n",
    "    \"\"\"\n",
    "    Convert source and target text to proper word ids\n",
    "    :param source_text: String that contains all the source text.\n",
    "    :param target_text: String that contains all the target text.\n",
    "    :param source_vocab_to_int: Dictionary to go from the source words to an id\n",
    "    :param target_vocab_to_int: Dictionary to go from the target words to an id\n",
    "    :return: A tuple of lists (source_id_text, target_id_text)\n",
    "    \"\"\"\n",
    "    # TODO: Implement Function\n",
    "    source_words_to_ids = [[source_vocab_to_int[word] for word in sentence.split()]\n",
    "                           for sentence in source_text.split('\\n')]\n",
    "    target_words_to_ids = [[target_vocab_to_int[word] for word in sentence.split()]\n",
    "                           + [target_vocab_to_int['<EOS>']] for sentence in target_text.split('\\n')]\n",
    "    return source_words_to_ids, target_words_to_ids\n",
    "\n",
    "\"\"\"\n",
    "DON'T MODIFY ANYTHING IN THIS CELL THAT IS BELOW THIS LINE\n",
    "\"\"\"\n",
    "tests.test_text_to_ids(text_to_ids)"
   ]
  },
  {
   "cell_type": "markdown",
   "metadata": {},
   "source": [
    "### Preprocess all the data and save it\n",
    "Running the code cell below will preprocess all the data and save it to file."
   ]
  },
  {
   "cell_type": "code",
   "execution_count": 4,
   "metadata": {
    "collapsed": true
   },
   "outputs": [],
   "source": [
    "\"\"\"\n",
    "DON'T MODIFY ANYTHING IN THIS CELL\n",
    "\"\"\"\n",
    "helper.preprocess_and_save_data(source_path, target_path, text_to_ids)"
   ]
  },
  {
   "cell_type": "markdown",
   "metadata": {},
   "source": [
    "# Check Point\n",
    "This is your first checkpoint. If you ever decide to come back to this notebook or have to restart the notebook, you can start from here. The preprocessed data has been saved to disk."
   ]
  },
  {
   "cell_type": "code",
   "execution_count": 5,
   "metadata": {
    "collapsed": true
   },
   "outputs": [],
   "source": [
    "\"\"\"\n",
    "DON'T MODIFY ANYTHING IN THIS CELL\n",
    "\"\"\"\n",
    "import numpy as np\n",
    "import helper\n",
    "\n",
    "(source_int_text, target_int_text), (source_vocab_to_int, target_vocab_to_int), _ = helper.load_preprocess()"
   ]
  },
  {
   "cell_type": "markdown",
   "metadata": {},
   "source": [
    "### Check the Version of TensorFlow and Access to GPU\n",
    "This will check to make sure you have the correct version of TensorFlow and access to a GPU"
   ]
  },
  {
   "cell_type": "code",
   "execution_count": 6,
   "metadata": {},
   "outputs": [
    {
     "name": "stdout",
     "output_type": "stream",
     "text": [
      "TensorFlow Version: 1.1.0\n",
      "Default GPU Device: /gpu:0\n"
     ]
    }
   ],
   "source": [
    "\"\"\"\n",
    "DON'T MODIFY ANYTHING IN THIS CELL\n",
    "\"\"\"\n",
    "from distutils.version import LooseVersion\n",
    "import warnings\n",
    "import tensorflow as tf\n",
    "from tensorflow.python.layers.core import Dense\n",
    "\n",
    "# Check TensorFlow Version\n",
    "assert LooseVersion(tf.__version__) >= LooseVersion('1.1'), 'Please use TensorFlow version 1.1 or newer'\n",
    "print('TensorFlow Version: {}'.format(tf.__version__))\n",
    "\n",
    "# Check for a GPU\n",
    "if not tf.test.gpu_device_name():\n",
    "    warnings.warn('No GPU found. Please use a GPU to train your neural network.')\n",
    "else:\n",
    "    print('Default GPU Device: {}'.format(tf.test.gpu_device_name()))"
   ]
  },
  {
   "cell_type": "markdown",
   "metadata": {},
   "source": [
    "## Build the Neural Network\n",
    "You'll build the components necessary to build a Sequence-to-Sequence model by implementing the following functions below:\n",
    "- `model_inputs`\n",
    "- `process_decoder_input`\n",
    "- `encoding_layer`\n",
    "- `decoding_layer_train`\n",
    "- `decoding_layer_infer`\n",
    "- `decoding_layer`\n",
    "- `seq2seq_model`\n",
    "\n",
    "### Input\n",
    "Implement the `model_inputs()` function to create TF Placeholders for the Neural Network. It should create the following placeholders:\n",
    "\n",
    "- Input text placeholder named \"input\" using the TF Placeholder name parameter with rank 2.\n",
    "- Targets placeholder with rank 2.\n",
    "- Learning rate placeholder with rank 0.\n",
    "- Keep probability placeholder named \"keep_prob\" using the TF Placeholder name parameter with rank 0.\n",
    "- Target sequence length placeholder named \"target_sequence_length\" with rank 1\n",
    "- Max target sequence length tensor named \"max_target_len\" getting its value from applying tf.reduce_max on the target_sequence_length placeholder. Rank 0.\n",
    "- Source sequence length placeholder named \"source_sequence_length\" with rank 1\n",
    "\n",
    "Return the placeholders in the following the tuple (input, targets, learning rate, keep probability, target sequence length, max target sequence length, source sequence length)"
   ]
  },
  {
   "cell_type": "code",
   "execution_count": 7,
   "metadata": {},
   "outputs": [
    {
     "name": "stdout",
     "output_type": "stream",
     "text": [
      "Tests Passed\n"
     ]
    }
   ],
   "source": [
    "def model_inputs():\n",
    "    \"\"\"\n",
    "    Create TF Placeholders for input, targets, learning rate, and lengths of source and target sequences.\n",
    "    :return: Tuple (input, targets, learning rate, keep probability, target sequence length,\n",
    "    max target sequence length, source sequence length)\n",
    "    \"\"\"\n",
    "    # TODO: Implement Function\n",
    "    inputs = tf.placeholder(tf.int32, [None, None], name='input')\n",
    "    targets = tf.placeholder(tf.int32, [None, None], name='target')\n",
    "    learning_rate = tf.placeholder(tf.float32, name='learning_rate')\n",
    "    keep_prob = tf.placeholder(tf.float32, name='keep_prob')\n",
    "    target_sequence_length = tf.placeholder(tf.int32, [None], name='target_sequence_length')\n",
    "    max_target_len = tf.reduce_max(target_sequence_length, name='max_target_len')\n",
    "    source_sequence_length = tf.placeholder(tf.int32, [None], name='source_sequence_length')\n",
    "    return inputs, targets, learning_rate, keep_prob, target_sequence_length, max_target_len, source_sequence_length\n",
    "\n",
    "\n",
    "\"\"\"\n",
    "DON'T MODIFY ANYTHING IN THIS CELL THAT IS BELOW THIS LINE\n",
    "\"\"\"\n",
    "tests.test_model_inputs(model_inputs)"
   ]
  },
  {
   "cell_type": "markdown",
   "metadata": {},
   "source": [
    "### Process Decoder Input\n",
    "Implement `process_decoder_input` by removing the last word id from each batch in `target_data` and concat the GO ID to the begining of each batch."
   ]
  },
  {
   "cell_type": "code",
   "execution_count": 13,
   "metadata": {},
   "outputs": [
    {
     "name": "stdout",
     "output_type": "stream",
     "text": [
      "Tests Passed\n"
     ]
    }
   ],
   "source": [
    "def process_decoder_input(target_data, target_vocab_to_int, batch_size):\n",
    "    \"\"\"\n",
    "    Preprocess target data for encoding\n",
    "    :param target_data: Target Placehoder\n",
    "    :param target_vocab_to_int: Dictionary to go from the target words to an id\n",
    "    :param batch_size: Batch Size\n",
    "    :return: Preprocessed target data\n",
    "    \"\"\"\n",
    "    # TODO: Implement Function\n",
    "    ending = tf.strided_slice(target_data, [0, 0], [batch_size, -1], [1, 1])\n",
    "    dec_input = tf.concat([tf.fill([batch_size, 1], target_vocab_to_int['<GO>']), ending], 1)\n",
    "\n",
    "    return dec_input\n",
    "\n",
    "\"\"\"\n",
    "DON'T MODIFY ANYTHING IN THIS CELL THAT IS BELOW THIS LINE\n",
    "\"\"\"\n",
    "tests.test_process_encoding_input(process_decoder_input)"
   ]
  },
  {
   "cell_type": "markdown",
   "metadata": {},
   "source": [
    "### Encoding\n",
    "Implement `encoding_layer()` to create a Encoder RNN layer:\n",
    " * Embed the encoder input using [`tf.contrib.layers.embed_sequence`](https://www.tensorflow.org/api_docs/python/tf/contrib/layers/embed_sequence)\n",
    " * Construct a [stacked](https://github.com/tensorflow/tensorflow/blob/6947f65a374ebf29e74bb71e36fd82760056d82c/tensorflow/docs_src/tutorials/recurrent.md#stacking-multiple-lstms) [`tf.contrib.rnn.LSTMCell`](https://www.tensorflow.org/api_docs/python/tf/contrib/rnn/LSTMCell) wrapped in a [`tf.contrib.rnn.DropoutWrapper`](https://www.tensorflow.org/api_docs/python/tf/contrib/rnn/DropoutWrapper)\n",
    " * Pass cell and embedded input to [`tf.nn.dynamic_rnn()`](https://www.tensorflow.org/api_docs/python/tf/nn/dynamic_rnn)"
   ]
  },
  {
   "cell_type": "code",
   "execution_count": 8,
   "metadata": {
    "scrolled": false
   },
   "outputs": [
    {
     "name": "stdout",
     "output_type": "stream",
     "text": [
      "Tests Passed\n"
     ]
    }
   ],
   "source": [
    "from imp import reload\n",
    "reload(tests)\n",
    "\n",
    "def encoding_layer(rnn_inputs, rnn_size, num_layers, keep_prob, \n",
    "                   source_sequence_length, source_vocab_size, \n",
    "                   encoding_embedding_size):\n",
    "    \"\"\"\n",
    "    Create encoding layer\n",
    "    :param rnn_inputs: Inputs for the RNN\n",
    "    :param rnn_size: RNN Size\n",
    "    :param num_layers: Number of layers\n",
    "    :param keep_prob: Dropout keep probability\n",
    "    :param source_sequence_length: a list of the lengths of each sequence in the batch\n",
    "    :param source_vocab_size: vocabulary size of source data\n",
    "    :param encoding_embedding_size: embedding size of source data\n",
    "    :return: tuple (RNN output, RNN state)\n",
    "    \"\"\"\n",
    "    # TODO: Implement Function    \n",
    "    enc_embed_input = tf.contrib.layers.embed_sequence(rnn_inputs, source_vocab_size, encoding_embedding_size)\n",
    "\n",
    "    def make_cell(rnn_size):\n",
    "        enc_cell_lstm = tf.contrib.rnn.LSTMCell(rnn_size,\n",
    "                                           initializer=tf.random_uniform_initializer(-0.1, 0.1, seed=2))\n",
    "        enc_cell_drop = tf.contrib.rnn.DropoutWrapper(enc_cell_lstm, output_keep_prob = keep_prob)\n",
    "        return enc_cell_drop\n",
    "\n",
    "    enc_cell = tf.contrib.rnn.MultiRNNCell([make_cell(rnn_size) for _ in range(num_layers)])\n",
    "    \n",
    "    enc_output, enc_state = tf.nn.dynamic_rnn(enc_cell, enc_embed_input, sequence_length=source_sequence_length, dtype=tf.float32)\n",
    "    \n",
    "    return enc_output, enc_state\n",
    "\n",
    "\"\"\"\n",
    "DON'T MODIFY ANYTHING IN THIS CELL THAT IS BELOW THIS LINE\n",
    "\"\"\"\n",
    "tests.test_encoding_layer(encoding_layer)"
   ]
  },
  {
   "cell_type": "markdown",
   "metadata": {},
   "source": [
    "### Decoding - Training\n",
    "Create a training decoding layer:\n",
    "* Create a [`tf.contrib.seq2seq.TrainingHelper`](https://www.tensorflow.org/api_docs/python/tf/contrib/seq2seq/TrainingHelper) \n",
    "* Create a [`tf.contrib.seq2seq.BasicDecoder`](https://www.tensorflow.org/api_docs/python/tf/contrib/seq2seq/BasicDecoder)\n",
    "* Obtain the decoder outputs from [`tf.contrib.seq2seq.dynamic_decode`](https://www.tensorflow.org/api_docs/python/tf/contrib/seq2seq/dynamic_decode)"
   ]
  },
  {
   "cell_type": "code",
   "execution_count": 9,
   "metadata": {},
   "outputs": [
    {
     "name": "stdout",
     "output_type": "stream",
     "text": [
      "Tests Passed\n"
     ]
    }
   ],
   "source": [
    "\n",
    "def decoding_layer_train(encoder_state, dec_cell, dec_embed_input, \n",
    "                         target_sequence_length, max_summary_length, \n",
    "                         output_layer, keep_prob):\n",
    "    \"\"\"\n",
    "    Create a decoding layer for training\n",
    "    :param encoder_state: Encoder State\n",
    "    :param dec_cell: Decoder RNN Cell\n",
    "    :param dec_embed_input: Decoder embedded input\n",
    "    :param target_sequence_length: The lengths of each sequence in the target batch\n",
    "    :param max_summary_length: The length of the longest sequence in the batch\n",
    "    :param output_layer: Function to apply the output layer\n",
    "    :param keep_prob: Dropout keep probability\n",
    "    :return: BasicDecoderOutput containing training logits and sample_id\n",
    "    \"\"\"\n",
    "    # TODO: Implement Function\n",
    "    training_helper = tf.contrib.seq2seq.TrainingHelper(dec_embed_input,\n",
    "                                                        target_sequence_length)\n",
    "        \n",
    "    training_decoder = tf.contrib.seq2seq.BasicDecoder(dec_cell,\n",
    "                                                       training_helper,\n",
    "                                                       encoder_state,\n",
    "                                                       output_layer) \n",
    "        \n",
    "    training_decoder_output, _ = tf.contrib.seq2seq.dynamic_decode(training_decoder,\n",
    "                                                                impute_finished=True,\n",
    "                                                                maximum_iterations=max_summary_length)\n",
    "    \n",
    "    logits = training_decoder_output.rnn_output\n",
    "    sample_id = training_decoder_output.sample_id\n",
    "    logits = tf.nn.dropout(logits, keep_prob)\n",
    "    \n",
    "    return tf.contrib.seq2seq.BasicDecoderOutput(logits, sample_id)\n",
    "\n",
    "\n",
    "\n",
    "\"\"\"\n",
    "DON'T MODIFY ANYTHING IN THIS CELL THAT IS BELOW THIS LINE\n",
    "\"\"\"\n",
    "tests.test_decoding_layer_train(decoding_layer_train)"
   ]
  },
  {
   "cell_type": "markdown",
   "metadata": {},
   "source": [
    "### Decoding - Inference\n",
    "Create inference decoder:\n",
    "* Create a [`tf.contrib.seq2seq.GreedyEmbeddingHelper`](https://www.tensorflow.org/api_docs/python/tf/contrib/seq2seq/GreedyEmbeddingHelper)\n",
    "* Create a [`tf.contrib.seq2seq.BasicDecoder`](https://www.tensorflow.org/api_docs/python/tf/contrib/seq2seq/BasicDecoder)\n",
    "* Obtain the decoder outputs from [`tf.contrib.seq2seq.dynamic_decode`](https://www.tensorflow.org/api_docs/python/tf/contrib/seq2seq/dynamic_decode)"
   ]
  },
  {
   "cell_type": "code",
   "execution_count": 10,
   "metadata": {
    "scrolled": true
   },
   "outputs": [
    {
     "name": "stdout",
     "output_type": "stream",
     "text": [
      "Tests Passed\n"
     ]
    }
   ],
   "source": [
    "def decoding_layer_infer(encoder_state, dec_cell, dec_embeddings, start_of_sequence_id,\n",
    "                         end_of_sequence_id, max_target_sequence_length,\n",
    "                         vocab_size, output_layer, batch_size, keep_prob):\n",
    "    \"\"\"\n",
    "    Create a decoding layer for inference\n",
    "    :param encoder_state: Encoder state\n",
    "    :param dec_cell: Decoder RNN Cell\n",
    "    :param dec_embeddings: Decoder embeddings\n",
    "    :param start_of_sequence_id: GO ID\n",
    "    :param end_of_sequence_id: EOS Id\n",
    "    :param max_target_sequence_length: Maximum length of target sequences\n",
    "    :param vocab_size: Size of decoder/target vocabulary\n",
    "    :param decoding_scope: TenorFlow Variable Scope for decoding\n",
    "    :param output_layer: Function to apply the output layer\n",
    "    :param batch_size: Batch size\n",
    "    :param keep_prob: Dropout keep probability\n",
    "    :return: BasicDecoderOutput containing inference logits and sample_id\n",
    "    \"\"\"\n",
    "    # TODO: Implement Function\n",
    "    start_tokens = tf.tile(tf.constant([start_of_sequence_id], dtype=tf.int32), [batch_size], name='start_tokens')\n",
    "    \n",
    "    inference_helper = tf.contrib.seq2seq.GreedyEmbeddingHelper(dec_embeddings,\n",
    "                                                                start_tokens,\n",
    "                                                                end_of_sequence_id)\n",
    "        \n",
    "    inference_decoder = tf.contrib.seq2seq.BasicDecoder(dec_cell,\n",
    "                                                        inference_helper,\n",
    "                                                        encoder_state,\n",
    "                                                        output_layer)\n",
    "        \n",
    "    inference_decoder_output, _ = tf.contrib.seq2seq.dynamic_decode(inference_decoder,\n",
    "                                                                    impute_finished=True,\n",
    "                                                                    maximum_iterations=max_target_sequence_length)\n",
    "    \n",
    "    logits = inference_decoder_output.rnn_output\n",
    "    sample_id = inference_decoder_output.sample_id\n",
    "    \n",
    "    return tf.contrib.seq2seq.BasicDecoderOutput(logits, sample_id)\n",
    "\n",
    "\n",
    "\n",
    "\"\"\"\n",
    "DON'T MODIFY ANYTHING IN THIS CELL THAT IS BELOW THIS LINE\n",
    "\"\"\"\n",
    "tests.test_decoding_layer_infer(decoding_layer_infer)"
   ]
  },
  {
   "cell_type": "markdown",
   "metadata": {},
   "source": [
    "### Build the Decoding Layer\n",
    "Implement `decoding_layer()` to create a Decoder RNN layer.\n",
    "\n",
    "* Embed the target sequences\n",
    "* Construct the decoder LSTM cell (just like you constructed the encoder cell above)\n",
    "* Create an output layer to map the outputs of the decoder to the elements of our vocabulary\n",
    "* Use the your `decoding_layer_train(encoder_state, dec_cell, dec_embed_input, target_sequence_length, max_target_sequence_length, output_layer, keep_prob)` function to get the training logits.\n",
    "* Use your `decoding_layer_infer(encoder_state, dec_cell, dec_embeddings, start_of_sequence_id, end_of_sequence_id, max_target_sequence_length, vocab_size, output_layer, batch_size, keep_prob)` function to get the inference logits.\n",
    "\n",
    "Note: You'll need to use [tf.variable_scope](https://www.tensorflow.org/api_docs/python/tf/variable_scope) to share variables between training and inference."
   ]
  },
  {
   "cell_type": "code",
   "execution_count": 11,
   "metadata": {},
   "outputs": [
    {
     "name": "stdout",
     "output_type": "stream",
     "text": [
      "Tests Passed\n"
     ]
    }
   ],
   "source": [
    "def decoding_layer(dec_input, encoder_state,\n",
    "                   target_sequence_length, max_target_sequence_length,\n",
    "                   rnn_size,\n",
    "                   num_layers, target_vocab_to_int, target_vocab_size,\n",
    "                   batch_size, keep_prob, decoding_embedding_size):\n",
    "    \"\"\"\n",
    "    Create decoding layer\n",
    "    :param dec_input: Decoder input\n",
    "    :param encoder_state: Encoder state\n",
    "    :param target_sequence_length: The lengths of each sequence in the target batch\n",
    "    :param max_target_sequence_length: Maximum length of target sequences\n",
    "    :param rnn_size: RNN Size\n",
    "    :param num_layers: Number of layers\n",
    "    :param target_vocab_to_int: Dictionary to go from the target words to an id\n",
    "    :param target_vocab_size: Size of target vocabulary\n",
    "    :param batch_size: The size of the batch\n",
    "    :param keep_prob: Dropout keep probability\n",
    "    :param decoding_embedding_size: Decoding embedding size\n",
    "    :return: Tuple of (Training BasicDecoderOutput, Inference BasicDecoderOutput)\n",
    "    \"\"\"\n",
    "    # TODO: Implement Function\n",
    "    dec_embeddings = tf.Variable(tf.random_uniform([target_vocab_size, decoding_embedding_size]))\n",
    "    dec_embed_input = tf.nn.embedding_lookup(dec_embeddings, dec_input)\n",
    "\n",
    "    def make_cell(rnn_size):\n",
    "        dec_cell_lstm = tf.contrib.rnn.LSTMCell(rnn_size,\n",
    "                                           initializer=tf.random_uniform_initializer(-0.1, 0.1, seed=2))\n",
    "        dec_cell_drop = tf.contrib.rnn.DropoutWrapper(dec_cell_lstm, output_keep_prob = keep_prob)\n",
    "        return dec_cell_drop\n",
    "\n",
    "    dec_cell = tf.contrib.rnn.MultiRNNCell([make_cell(rnn_size) for _ in range(num_layers)])\n",
    "    \n",
    "    output_layer = Dense(target_vocab_size,\n",
    "                         kernel_initializer = tf.truncated_normal_initializer(mean = 0.0, stddev=0.1))\n",
    "        \n",
    "    with tf.variable_scope(\"decode\"):    \n",
    "        train_logits = decoding_layer_train(encoder_state, dec_cell, dec_embed_input,\n",
    "                                            target_sequence_length, max_target_sequence_length, output_layer, keep_prob)\n",
    "    \n",
    "    with tf.variable_scope(\"decode\", reuse=True):\n",
    "        inference_logits = decoding_layer_infer(encoder_state, dec_cell, dec_embeddings, target_vocab_to_int['<GO>'],\n",
    "                                                target_vocab_to_int['<EOS>'], max_target_sequence_length, target_vocab_size,\n",
    "                                                output_layer, batch_size, keep_prob)\n",
    "    \n",
    "    return train_logits, inference_logits\n",
    "\n",
    "\n",
    "\n",
    "\"\"\"\n",
    "DON'T MODIFY ANYTHING IN THIS CELL THAT IS BELOW THIS LINE\n",
    "\"\"\"\n",
    "tests.test_decoding_layer(decoding_layer)"
   ]
  },
  {
   "cell_type": "markdown",
   "metadata": {},
   "source": [
    "### Build the Neural Network\n",
    "Apply the functions you implemented above to:\n",
    "\n",
    "- Encode the input using your `encoding_layer(rnn_inputs, rnn_size, num_layers, keep_prob,  source_sequence_length, source_vocab_size, encoding_embedding_size)`.\n",
    "- Process target data using your `process_decoder_input(target_data, target_vocab_to_int, batch_size)` function.\n",
    "- Decode the encoded input using your `decoding_layer(dec_input, enc_state, target_sequence_length, max_target_sentence_length, rnn_size, num_layers, target_vocab_to_int, target_vocab_size, batch_size, keep_prob, dec_embedding_size)` function."
   ]
  },
  {
   "cell_type": "code",
   "execution_count": 14,
   "metadata": {},
   "outputs": [
    {
     "name": "stdout",
     "output_type": "stream",
     "text": [
      "Tests Passed\n"
     ]
    }
   ],
   "source": [
    "def seq2seq_model(input_data, target_data, keep_prob, batch_size,\n",
    "                  source_sequence_length, target_sequence_length,\n",
    "                  max_target_sentence_length,\n",
    "                  source_vocab_size, target_vocab_size,\n",
    "                  enc_embedding_size, dec_embedding_size,\n",
    "                  rnn_size, num_layers, target_vocab_to_int):\n",
    "    \"\"\"\n",
    "    Build the Sequence-to-Sequence part of the neural network\n",
    "    :param input_data: Input placeholder\n",
    "    :param target_data: Target placeholder\n",
    "    :param keep_prob: Dropout keep probability placeholder\n",
    "    :param batch_size: Batch Size\n",
    "    :param source_sequence_length: Sequence Lengths of source sequences in the batch\n",
    "    :param target_sequence_length: Sequence Lengths of target sequences in the batch\n",
    "    :param source_vocab_size: Source vocabulary size\n",
    "    :param target_vocab_size: Target vocabulary size\n",
    "    :param enc_embedding_size: Decoder embedding size\n",
    "    :param dec_embedding_size: Encoder embedding size\n",
    "    :param rnn_size: RNN Size\n",
    "    :param num_layers: Number of layers\n",
    "    :param target_vocab_to_int: Dictionary to go from the target words to an id\n",
    "    :return: Tuple of (Training BasicDecoderOutput, Inference BasicDecoderOutput)\n",
    "    \"\"\"\n",
    "    # TODO: Implement Function\n",
    "    _, enc_state = encoding_layer(input_data, rnn_size, num_layers, keep_prob,\n",
    "                                  source_sequence_length, source_vocab_size, enc_embedding_size)\n",
    "                                   \n",
    "    dec_input = process_decoder_input(target_data, target_vocab_to_int, batch_size)\n",
    "    \n",
    "    training_decoder_output, inference_decoder_output = decoding_layer(dec_input, enc_state, target_sequence_length,\n",
    "                                                                       max_target_sentence_length, rnn_size, num_layers,\n",
    "                                                                       target_vocab_to_int, target_vocab_size, batch_size,\n",
    "                                                                       keep_prob, dec_embedding_size)\n",
    "    \n",
    "    return training_decoder_output, inference_decoder_output\n",
    "\n",
    "\n",
    "\"\"\"\n",
    "DON'T MODIFY ANYTHING IN THIS CELL THAT IS BELOW THIS LINE\n",
    "\"\"\"\n",
    "tests.test_seq2seq_model(seq2seq_model)"
   ]
  },
  {
   "cell_type": "markdown",
   "metadata": {},
   "source": [
    "## Neural Network Training\n",
    "### Hyperparameters\n",
    "Tune the following parameters:\n",
    "\n",
    "- Set `epochs` to the number of epochs.\n",
    "- Set `batch_size` to the batch size.\n",
    "- Set `rnn_size` to the size of the RNNs.\n",
    "- Set `num_layers` to the number of layers.\n",
    "- Set `encoding_embedding_size` to the size of the embedding for the encoder.\n",
    "- Set `decoding_embedding_size` to the size of the embedding for the decoder.\n",
    "- Set `learning_rate` to the learning rate.\n",
    "- Set `keep_probability` to the Dropout keep probability\n",
    "- Set `display_step` to state how many steps between each debug output statement"
   ]
  },
  {
   "cell_type": "code",
   "execution_count": 15,
   "metadata": {
    "collapsed": true
   },
   "outputs": [],
   "source": [
    "# Number of Epochs\n",
    "epochs = 8\n",
    "# Batch Size\n",
    "batch_size = 512\n",
    "# RNN Size\n",
    "rnn_size = 256\n",
    "# Number of Layers\n",
    "num_layers = 2\n",
    "# Embedding Size\n",
    "encoding_embedding_size = 210\n",
    "decoding_embedding_size = 210\n",
    "# Learning Rate\n",
    "learning_rate = 0.001\n",
    "# Dropout Keep Probability\n",
    "keep_probability = 0.5\n",
    "display_step = 10"
   ]
  },
  {
   "cell_type": "markdown",
   "metadata": {},
   "source": [
    "### Build the Graph\n",
    "Build the graph using the neural network you implemented."
   ]
  },
  {
   "cell_type": "code",
   "execution_count": 16,
   "metadata": {
    "collapsed": true
   },
   "outputs": [],
   "source": [
    "\"\"\"\n",
    "DON'T MODIFY ANYTHING IN THIS CELL\n",
    "\"\"\"\n",
    "save_path = 'checkpoints/dev'\n",
    "(source_int_text, target_int_text), (source_vocab_to_int, target_vocab_to_int), _ = helper.load_preprocess()\n",
    "max_target_sentence_length = max([len(sentence) for sentence in source_int_text])\n",
    "\n",
    "train_graph = tf.Graph()\n",
    "with train_graph.as_default():\n",
    "    input_data, targets, lr, keep_prob, target_sequence_length, max_target_sequence_length, source_sequence_length = model_inputs()\n",
    "\n",
    "    #sequence_length = tf.placeholder_with_default(max_target_sentence_length, None, name='sequence_length')\n",
    "    input_shape = tf.shape(input_data)\n",
    "\n",
    "    train_logits, inference_logits = seq2seq_model(tf.reverse(input_data, [-1]),\n",
    "                                                   targets,\n",
    "                                                   keep_prob,\n",
    "                                                   batch_size,\n",
    "                                                   source_sequence_length,\n",
    "                                                   target_sequence_length,\n",
    "                                                   max_target_sequence_length,\n",
    "                                                   len(source_vocab_to_int),\n",
    "                                                   len(target_vocab_to_int),\n",
    "                                                   encoding_embedding_size,\n",
    "                                                   decoding_embedding_size,\n",
    "                                                   rnn_size,\n",
    "                                                   num_layers,\n",
    "                                                   target_vocab_to_int)\n",
    "\n",
    "\n",
    "    training_logits = tf.identity(train_logits.rnn_output, name='logits')\n",
    "    inference_logits = tf.identity(inference_logits.sample_id, name='predictions')\n",
    "\n",
    "    masks = tf.sequence_mask(target_sequence_length, max_target_sequence_length, dtype=tf.float32, name='masks')\n",
    "\n",
    "    with tf.name_scope(\"optimization\"):\n",
    "        # Loss function\n",
    "        cost = tf.contrib.seq2seq.sequence_loss(\n",
    "            training_logits,\n",
    "            targets,\n",
    "            masks)\n",
    "\n",
    "        # Optimizer\n",
    "        optimizer = tf.train.AdamOptimizer(lr)\n",
    "\n",
    "        # Gradient Clipping\n",
    "        gradients = optimizer.compute_gradients(cost)\n",
    "        capped_gradients = [(tf.clip_by_value(grad, -1., 1.), var) for grad, var in gradients if grad is not None]\n",
    "        train_op = optimizer.apply_gradients(capped_gradients)\n"
   ]
  },
  {
   "cell_type": "markdown",
   "metadata": {},
   "source": [
    "Batch and pad the source and target sequences"
   ]
  },
  {
   "cell_type": "code",
   "execution_count": 17,
   "metadata": {
    "collapsed": true
   },
   "outputs": [],
   "source": [
    "\"\"\"\n",
    "DON'T MODIFY ANYTHING IN THIS CELL\n",
    "\"\"\"\n",
    "def pad_sentence_batch(sentence_batch, pad_int):\n",
    "    \"\"\"Pad sentences with <PAD> so that each sentence of a batch has the same length\"\"\"\n",
    "    max_sentence = max([len(sentence) for sentence in sentence_batch])\n",
    "    return [sentence + [pad_int] * (max_sentence - len(sentence)) for sentence in sentence_batch]\n",
    "\n",
    "\n",
    "def get_batches(sources, targets, batch_size, source_pad_int, target_pad_int):\n",
    "    \"\"\"Batch targets, sources, and the lengths of their sentences together\"\"\"\n",
    "    for batch_i in range(0, len(sources)//batch_size):\n",
    "        start_i = batch_i * batch_size\n",
    "\n",
    "        # Slice the right amount for the batch\n",
    "        sources_batch = sources[start_i:start_i + batch_size]\n",
    "        targets_batch = targets[start_i:start_i + batch_size]\n",
    "\n",
    "        # Pad\n",
    "        pad_sources_batch = np.array(pad_sentence_batch(sources_batch, source_pad_int))\n",
    "        pad_targets_batch = np.array(pad_sentence_batch(targets_batch, target_pad_int))\n",
    "\n",
    "        # Need the lengths for the _lengths parameters\n",
    "        pad_targets_lengths = []\n",
    "        for target in pad_targets_batch:\n",
    "            pad_targets_lengths.append(len(target))\n",
    "\n",
    "        pad_source_lengths = []\n",
    "        for source in pad_sources_batch:\n",
    "            pad_source_lengths.append(len(source))\n",
    "\n",
    "        yield pad_sources_batch, pad_targets_batch, pad_source_lengths, pad_targets_lengths\n"
   ]
  },
  {
   "cell_type": "markdown",
   "metadata": {},
   "source": [
    "### Train\n",
    "Train the neural network on the preprocessed data. If you have a hard time getting a good loss, check the forms to see if anyone is having the same problem."
   ]
  },
  {
   "cell_type": "code",
   "execution_count": 18,
   "metadata": {
    "scrolled": true
   },
   "outputs": [
    {
     "name": "stdout",
     "output_type": "stream",
     "text": [
      "Epoch   0 Batch   10/269 - Train Accuracy: 0.3221, Validation Accuracy: 0.3887, Loss: 4.7444\n",
      "Epoch   0 Batch   20/269 - Train Accuracy: 0.3513, Validation Accuracy: 0.4083, Loss: 4.4583\n",
      "Epoch   0 Batch   30/269 - Train Accuracy: 0.3821, Validation Accuracy: 0.4181, Loss: 4.2300\n",
      "Epoch   0 Batch   40/269 - Train Accuracy: 0.3880, Validation Accuracy: 0.4461, Loss: 4.1696\n",
      "Epoch   0 Batch   50/269 - Train Accuracy: 0.3884, Validation Accuracy: 0.4409, Loss: 4.0416\n",
      "Epoch   0 Batch   60/269 - Train Accuracy: 0.4356, Validation Accuracy: 0.4576, Loss: 3.8685\n",
      "Epoch   0 Batch   70/269 - Train Accuracy: 0.4370, Validation Accuracy: 0.4560, Loss: 3.8153\n",
      "Epoch   0 Batch   80/269 - Train Accuracy: 0.4327, Validation Accuracy: 0.4561, Loss: 3.7048\n",
      "Epoch   0 Batch   90/269 - Train Accuracy: 0.3744, Validation Accuracy: 0.4587, Loss: 3.7435\n",
      "Epoch   0 Batch  100/269 - Train Accuracy: 0.4494, Validation Accuracy: 0.4685, Loss: 3.5728\n",
      "Epoch   0 Batch  110/269 - Train Accuracy: 0.4226, Validation Accuracy: 0.4611, Loss: 3.5481\n",
      "Epoch   0 Batch  120/269 - Train Accuracy: 0.3873, Validation Accuracy: 0.4446, Loss: 3.5182\n",
      "Epoch   0 Batch  130/269 - Train Accuracy: 0.4076, Validation Accuracy: 0.4698, Loss: 3.4488\n",
      "Epoch   0 Batch  140/269 - Train Accuracy: 0.4432, Validation Accuracy: 0.4684, Loss: 3.3954\n",
      "Epoch   0 Batch  150/269 - Train Accuracy: 0.4968, Validation Accuracy: 0.5105, Loss: 3.3385\n",
      "Epoch   0 Batch  160/269 - Train Accuracy: 0.5072, Validation Accuracy: 0.5293, Loss: 3.3359\n",
      "Epoch   0 Batch  170/269 - Train Accuracy: 0.5813, Validation Accuracy: 0.5881, Loss: 3.2722\n",
      "Epoch   0 Batch  180/269 - Train Accuracy: 0.5975, Validation Accuracy: 0.5906, Loss: 3.2374\n",
      "Epoch   0 Batch  190/269 - Train Accuracy: 0.5682, Validation Accuracy: 0.5815, Loss: 3.1951\n",
      "Epoch   0 Batch  200/269 - Train Accuracy: 0.5801, Validation Accuracy: 0.5961, Loss: 3.1753\n",
      "Epoch   0 Batch  210/269 - Train Accuracy: 0.6076, Validation Accuracy: 0.5884, Loss: 3.2145\n",
      "Epoch   0 Batch  220/269 - Train Accuracy: 0.6199, Validation Accuracy: 0.6116, Loss: 3.0858\n",
      "Epoch   0 Batch  230/269 - Train Accuracy: 0.6027, Validation Accuracy: 0.6167, Loss: 3.1236\n",
      "Epoch   0 Batch  240/269 - Train Accuracy: 0.6526, Validation Accuracy: 0.6273, Loss: 3.0862\n",
      "Epoch   0 Batch  250/269 - Train Accuracy: 0.6303, Validation Accuracy: 0.6312, Loss: 3.1176\n",
      "Epoch   0 Batch  260/269 - Train Accuracy: 0.6035, Validation Accuracy: 0.6227, Loss: 3.1324\n",
      "Epoch   1 Batch   10/269 - Train Accuracy: 0.6237, Validation Accuracy: 0.6330, Loss: 3.0747\n",
      "Epoch   1 Batch   20/269 - Train Accuracy: 0.6327, Validation Accuracy: 0.6438, Loss: 3.0797\n",
      "Epoch   1 Batch   30/269 - Train Accuracy: 0.6603, Validation Accuracy: 0.6560, Loss: 3.0405\n",
      "Epoch   1 Batch   40/269 - Train Accuracy: 0.6475, Validation Accuracy: 0.6635, Loss: 3.0462\n",
      "Epoch   1 Batch   50/269 - Train Accuracy: 0.6601, Validation Accuracy: 0.6619, Loss: 3.0778\n",
      "Epoch   1 Batch   60/269 - Train Accuracy: 0.6890, Validation Accuracy: 0.6709, Loss: 3.0164\n",
      "Epoch   1 Batch   70/269 - Train Accuracy: 0.7001, Validation Accuracy: 0.6787, Loss: 3.0375\n",
      "Epoch   1 Batch   80/269 - Train Accuracy: 0.6787, Validation Accuracy: 0.6778, Loss: 3.0016\n",
      "Epoch   1 Batch   90/269 - Train Accuracy: 0.6557, Validation Accuracy: 0.6772, Loss: 2.9970\n",
      "Epoch   1 Batch  100/269 - Train Accuracy: 0.7139, Validation Accuracy: 0.6980, Loss: 2.9573\n",
      "Epoch   1 Batch  110/269 - Train Accuracy: 0.7100, Validation Accuracy: 0.7088, Loss: 2.9847\n",
      "Epoch   1 Batch  120/269 - Train Accuracy: 0.7163, Validation Accuracy: 0.7179, Loss: 3.0003\n",
      "Epoch   1 Batch  130/269 - Train Accuracy: 0.7184, Validation Accuracy: 0.7324, Loss: 2.9813\n",
      "Epoch   1 Batch  140/269 - Train Accuracy: 0.7405, Validation Accuracy: 0.7329, Loss: 2.9397\n",
      "Epoch   1 Batch  150/269 - Train Accuracy: 0.7583, Validation Accuracy: 0.7488, Loss: 2.9686\n",
      "Epoch   1 Batch  160/269 - Train Accuracy: 0.7473, Validation Accuracy: 0.7601, Loss: 2.9143\n",
      "Epoch   1 Batch  170/269 - Train Accuracy: 0.7575, Validation Accuracy: 0.7642, Loss: 2.9689\n",
      "Epoch   1 Batch  180/269 - Train Accuracy: 0.7714, Validation Accuracy: 0.7474, Loss: 2.9342\n",
      "Epoch   1 Batch  190/269 - Train Accuracy: 0.7713, Validation Accuracy: 0.7677, Loss: 2.8789\n",
      "Epoch   1 Batch  200/269 - Train Accuracy: 0.7695, Validation Accuracy: 0.7827, Loss: 2.9321\n",
      "Epoch   1 Batch  210/269 - Train Accuracy: 0.7889, Validation Accuracy: 0.7811, Loss: 2.9003\n",
      "Epoch   1 Batch  220/269 - Train Accuracy: 0.8034, Validation Accuracy: 0.7930, Loss: 2.8523\n",
      "Epoch   1 Batch  230/269 - Train Accuracy: 0.7950, Validation Accuracy: 0.7951, Loss: 2.8867\n",
      "Epoch   1 Batch  240/269 - Train Accuracy: 0.8150, Validation Accuracy: 0.8016, Loss: 2.8986\n",
      "Epoch   1 Batch  250/269 - Train Accuracy: 0.8294, Validation Accuracy: 0.8176, Loss: 2.8396\n",
      "Epoch   1 Batch  260/269 - Train Accuracy: 0.7941, Validation Accuracy: 0.8117, Loss: 2.8935\n",
      "Epoch   2 Batch   10/269 - Train Accuracy: 0.8404, Validation Accuracy: 0.8281, Loss: 2.8441\n",
      "Epoch   2 Batch   20/269 - Train Accuracy: 0.8396, Validation Accuracy: 0.8428, Loss: 2.8476\n",
      "Epoch   2 Batch   30/269 - Train Accuracy: 0.8512, Validation Accuracy: 0.8339, Loss: 2.8214\n",
      "Epoch   2 Batch   40/269 - Train Accuracy: 0.8319, Validation Accuracy: 0.8407, Loss: 2.8491\n",
      "Epoch   2 Batch   50/269 - Train Accuracy: 0.8271, Validation Accuracy: 0.8464, Loss: 2.8375\n",
      "Epoch   2 Batch   60/269 - Train Accuracy: 0.8730, Validation Accuracy: 0.8544, Loss: 2.8050\n",
      "Epoch   2 Batch   70/269 - Train Accuracy: 0.8496, Validation Accuracy: 0.8542, Loss: 2.8163\n",
      "Epoch   2 Batch   80/269 - Train Accuracy: 0.8723, Validation Accuracy: 0.8676, Loss: 2.8175\n",
      "Epoch   2 Batch   90/269 - Train Accuracy: 0.8503, Validation Accuracy: 0.8581, Loss: 2.8380\n",
      "Epoch   2 Batch  100/269 - Train Accuracy: 0.8788, Validation Accuracy: 0.8576, Loss: 2.8168\n",
      "Epoch   2 Batch  110/269 - Train Accuracy: 0.8683, Validation Accuracy: 0.8646, Loss: 2.7831\n",
      "Epoch   2 Batch  120/269 - Train Accuracy: 0.8743, Validation Accuracy: 0.8674, Loss: 2.7787\n",
      "Epoch   2 Batch  130/269 - Train Accuracy: 0.8714, Validation Accuracy: 0.8706, Loss: 2.7627\n",
      "Epoch   2 Batch  140/269 - Train Accuracy: 0.8680, Validation Accuracy: 0.8707, Loss: 2.7610\n",
      "Epoch   2 Batch  150/269 - Train Accuracy: 0.8750, Validation Accuracy: 0.8753, Loss: 2.7640\n",
      "Epoch   2 Batch  160/269 - Train Accuracy: 0.8840, Validation Accuracy: 0.8912, Loss: 2.7850\n",
      "Epoch   2 Batch  170/269 - Train Accuracy: 0.8619, Validation Accuracy: 0.8853, Loss: 2.7669\n",
      "Epoch   2 Batch  180/269 - Train Accuracy: 0.8929, Validation Accuracy: 0.8872, Loss: 2.8049\n",
      "Epoch   2 Batch  190/269 - Train Accuracy: 0.8946, Validation Accuracy: 0.8992, Loss: 2.7197\n",
      "Epoch   2 Batch  200/269 - Train Accuracy: 0.8822, Validation Accuracy: 0.8940, Loss: 2.7697\n",
      "Epoch   2 Batch  210/269 - Train Accuracy: 0.8990, Validation Accuracy: 0.8906, Loss: 2.7679\n",
      "Epoch   2 Batch  220/269 - Train Accuracy: 0.9055, Validation Accuracy: 0.8944, Loss: 2.7565\n",
      "Epoch   2 Batch  230/269 - Train Accuracy: 0.9144, Validation Accuracy: 0.9084, Loss: 2.7382\n",
      "Epoch   2 Batch  240/269 - Train Accuracy: 0.9133, Validation Accuracy: 0.9048, Loss: 2.7570\n",
      "Epoch   2 Batch  250/269 - Train Accuracy: 0.8970, Validation Accuracy: 0.8963, Loss: 2.7720\n",
      "Epoch   2 Batch  260/269 - Train Accuracy: 0.8895, Validation Accuracy: 0.9054, Loss: 2.7071\n",
      "Epoch   3 Batch   10/269 - Train Accuracy: 0.9048, Validation Accuracy: 0.9145, Loss: 2.7664\n",
      "Epoch   3 Batch   20/269 - Train Accuracy: 0.9021, Validation Accuracy: 0.9122, Loss: 2.6953\n",
      "Epoch   3 Batch   30/269 - Train Accuracy: 0.9058, Validation Accuracy: 0.9138, Loss: 2.7014\n",
      "Epoch   3 Batch   40/269 - Train Accuracy: 0.8842, Validation Accuracy: 0.9211, Loss: 2.7355\n",
      "Epoch   3 Batch   50/269 - Train Accuracy: 0.8864, Validation Accuracy: 0.9081, Loss: 2.7416\n",
      "Epoch   3 Batch   60/269 - Train Accuracy: 0.9093, Validation Accuracy: 0.9124, Loss: 2.6974\n",
      "Epoch   3 Batch   70/269 - Train Accuracy: 0.9015, Validation Accuracy: 0.9173, Loss: 2.7443\n",
      "Epoch   3 Batch   80/269 - Train Accuracy: 0.9018, Validation Accuracy: 0.9162, Loss: 2.7339\n",
      "Epoch   3 Batch   90/269 - Train Accuracy: 0.9104, Validation Accuracy: 0.9084, Loss: 2.7614\n",
      "Epoch   3 Batch  100/269 - Train Accuracy: 0.9201, Validation Accuracy: 0.9094, Loss: 2.6742\n",
      "Epoch   3 Batch  110/269 - Train Accuracy: 0.9039, Validation Accuracy: 0.9173, Loss: 2.6870\n"
     ]
    },
    {
     "name": "stdout",
     "output_type": "stream",
     "text": [
      "Epoch   3 Batch  120/269 - Train Accuracy: 0.9137, Validation Accuracy: 0.9133, Loss: 2.7010\n",
      "Epoch   3 Batch  130/269 - Train Accuracy: 0.9063, Validation Accuracy: 0.9193, Loss: 2.7603\n",
      "Epoch   3 Batch  140/269 - Train Accuracy: 0.9112, Validation Accuracy: 0.9133, Loss: 2.6940\n",
      "Epoch   3 Batch  150/269 - Train Accuracy: 0.9144, Validation Accuracy: 0.9276, Loss: 2.6719\n",
      "Epoch   3 Batch  160/269 - Train Accuracy: 0.9187, Validation Accuracy: 0.9283, Loss: 2.6828\n",
      "Epoch   3 Batch  170/269 - Train Accuracy: 0.9029, Validation Accuracy: 0.9271, Loss: 2.7374\n",
      "Epoch   3 Batch  180/269 - Train Accuracy: 0.9161, Validation Accuracy: 0.9247, Loss: 2.7040\n",
      "Epoch   3 Batch  190/269 - Train Accuracy: 0.9222, Validation Accuracy: 0.9244, Loss: 2.7005\n",
      "Epoch   3 Batch  200/269 - Train Accuracy: 0.9125, Validation Accuracy: 0.9296, Loss: 2.7468\n",
      "Epoch   3 Batch  210/269 - Train Accuracy: 0.9286, Validation Accuracy: 0.9265, Loss: 2.6852\n",
      "Epoch   3 Batch  220/269 - Train Accuracy: 0.9184, Validation Accuracy: 0.9249, Loss: 2.7147\n",
      "Epoch   3 Batch  230/269 - Train Accuracy: 0.9310, Validation Accuracy: 0.9309, Loss: 2.6968\n",
      "Epoch   3 Batch  240/269 - Train Accuracy: 0.9226, Validation Accuracy: 0.9244, Loss: 2.6356\n",
      "Epoch   3 Batch  250/269 - Train Accuracy: 0.9156, Validation Accuracy: 0.9289, Loss: 2.6965\n",
      "Epoch   3 Batch  260/269 - Train Accuracy: 0.9234, Validation Accuracy: 0.9246, Loss: 2.6950\n",
      "Epoch   4 Batch   10/269 - Train Accuracy: 0.9254, Validation Accuracy: 0.9190, Loss: 2.6946\n",
      "Epoch   4 Batch   20/269 - Train Accuracy: 0.9388, Validation Accuracy: 0.9351, Loss: 2.6534\n",
      "Epoch   4 Batch   30/269 - Train Accuracy: 0.9332, Validation Accuracy: 0.9323, Loss: 2.6590\n",
      "Epoch   4 Batch   40/269 - Train Accuracy: 0.9129, Validation Accuracy: 0.9376, Loss: 2.6441\n",
      "Epoch   4 Batch   50/269 - Train Accuracy: 0.9182, Validation Accuracy: 0.9342, Loss: 2.6744\n",
      "Epoch   4 Batch   60/269 - Train Accuracy: 0.9264, Validation Accuracy: 0.9319, Loss: 2.7065\n",
      "Epoch   4 Batch   70/269 - Train Accuracy: 0.9316, Validation Accuracy: 0.9319, Loss: 2.6756\n",
      "Epoch   4 Batch   80/269 - Train Accuracy: 0.9206, Validation Accuracy: 0.9260, Loss: 2.6844\n",
      "Epoch   4 Batch   90/269 - Train Accuracy: 0.9301, Validation Accuracy: 0.9281, Loss: 2.7408\n",
      "Epoch   4 Batch  100/269 - Train Accuracy: 0.9305, Validation Accuracy: 0.9373, Loss: 2.7137\n",
      "Epoch   4 Batch  110/269 - Train Accuracy: 0.9133, Validation Accuracy: 0.9235, Loss: 2.6861\n",
      "Epoch   4 Batch  120/269 - Train Accuracy: 0.9294, Validation Accuracy: 0.9395, Loss: 2.6622\n",
      "Epoch   4 Batch  130/269 - Train Accuracy: 0.9406, Validation Accuracy: 0.9401, Loss: 2.6496\n",
      "Epoch   4 Batch  140/269 - Train Accuracy: 0.9268, Validation Accuracy: 0.9338, Loss: 2.7081\n",
      "Epoch   4 Batch  150/269 - Train Accuracy: 0.9229, Validation Accuracy: 0.9338, Loss: 2.6339\n",
      "Epoch   4 Batch  160/269 - Train Accuracy: 0.9281, Validation Accuracy: 0.9414, Loss: 2.6722\n",
      "Epoch   4 Batch  170/269 - Train Accuracy: 0.9198, Validation Accuracy: 0.9432, Loss: 2.6710\n",
      "Epoch   4 Batch  180/269 - Train Accuracy: 0.9320, Validation Accuracy: 0.9454, Loss: 2.7076\n",
      "Epoch   4 Batch  190/269 - Train Accuracy: 0.9322, Validation Accuracy: 0.9374, Loss: 2.6907\n",
      "Epoch   4 Batch  200/269 - Train Accuracy: 0.9216, Validation Accuracy: 0.9421, Loss: 2.6467\n",
      "Epoch   4 Batch  210/269 - Train Accuracy: 0.9359, Validation Accuracy: 0.9390, Loss: 2.7447\n",
      "Epoch   4 Batch  220/269 - Train Accuracy: 0.9362, Validation Accuracy: 0.9437, Loss: 2.6775\n",
      "Epoch   4 Batch  230/269 - Train Accuracy: 0.9427, Validation Accuracy: 0.9453, Loss: 2.6710\n",
      "Epoch   4 Batch  240/269 - Train Accuracy: 0.9381, Validation Accuracy: 0.9403, Loss: 2.6169\n",
      "Epoch   4 Batch  250/269 - Train Accuracy: 0.9337, Validation Accuracy: 0.9439, Loss: 2.6663\n",
      "Epoch   4 Batch  260/269 - Train Accuracy: 0.9362, Validation Accuracy: 0.9386, Loss: 2.6646\n",
      "Epoch   5 Batch   10/269 - Train Accuracy: 0.9375, Validation Accuracy: 0.9373, Loss: 2.6625\n",
      "Epoch   5 Batch   20/269 - Train Accuracy: 0.9443, Validation Accuracy: 0.9462, Loss: 2.7012\n",
      "Epoch   5 Batch   30/269 - Train Accuracy: 0.9414, Validation Accuracy: 0.9376, Loss: 2.6856\n",
      "Epoch   5 Batch   40/269 - Train Accuracy: 0.9262, Validation Accuracy: 0.9524, Loss: 2.6345\n",
      "Epoch   5 Batch   50/269 - Train Accuracy: 0.9269, Validation Accuracy: 0.9403, Loss: 2.6754\n",
      "Epoch   5 Batch   60/269 - Train Accuracy: 0.9403, Validation Accuracy: 0.9392, Loss: 2.6106\n",
      "Epoch   5 Batch   70/269 - Train Accuracy: 0.9443, Validation Accuracy: 0.9523, Loss: 2.6251\n",
      "Epoch   5 Batch   80/269 - Train Accuracy: 0.9368, Validation Accuracy: 0.9467, Loss: 2.6947\n",
      "Epoch   5 Batch   90/269 - Train Accuracy: 0.9421, Validation Accuracy: 0.9495, Loss: 2.6938\n",
      "Epoch   5 Batch  100/269 - Train Accuracy: 0.9475, Validation Accuracy: 0.9394, Loss: 2.6765\n",
      "Epoch   5 Batch  110/269 - Train Accuracy: 0.9329, Validation Accuracy: 0.9439, Loss: 2.6632\n",
      "Epoch   5 Batch  120/269 - Train Accuracy: 0.9324, Validation Accuracy: 0.9383, Loss: 2.6599\n",
      "Epoch   5 Batch  130/269 - Train Accuracy: 0.9421, Validation Accuracy: 0.9418, Loss: 2.6614\n",
      "Epoch   5 Batch  140/269 - Train Accuracy: 0.9351, Validation Accuracy: 0.9466, Loss: 2.6677\n",
      "Epoch   5 Batch  150/269 - Train Accuracy: 0.9388, Validation Accuracy: 0.9508, Loss: 2.6454\n",
      "Epoch   5 Batch  160/269 - Train Accuracy: 0.9397, Validation Accuracy: 0.9476, Loss: 2.7321\n",
      "Epoch   5 Batch  170/269 - Train Accuracy: 0.9450, Validation Accuracy: 0.9563, Loss: 2.6466\n",
      "Epoch   5 Batch  180/269 - Train Accuracy: 0.9512, Validation Accuracy: 0.9553, Loss: 2.6602\n",
      "Epoch   5 Batch  190/269 - Train Accuracy: 0.9454, Validation Accuracy: 0.9473, Loss: 2.6737\n",
      "Epoch   5 Batch  200/269 - Train Accuracy: 0.9402, Validation Accuracy: 0.9575, Loss: 2.6604\n",
      "Epoch   5 Batch  210/269 - Train Accuracy: 0.9429, Validation Accuracy: 0.9513, Loss: 2.6534\n",
      "Epoch   5 Batch  220/269 - Train Accuracy: 0.9406, Validation Accuracy: 0.9537, Loss: 2.7041\n",
      "Epoch   5 Batch  230/269 - Train Accuracy: 0.9450, Validation Accuracy: 0.9421, Loss: 2.6384\n",
      "Epoch   5 Batch  240/269 - Train Accuracy: 0.9485, Validation Accuracy: 0.9503, Loss: 2.6197\n",
      "Epoch   5 Batch  250/269 - Train Accuracy: 0.9464, Validation Accuracy: 0.9506, Loss: 2.6121\n",
      "Epoch   5 Batch  260/269 - Train Accuracy: 0.9472, Validation Accuracy: 0.9500, Loss: 2.6848\n",
      "Epoch   6 Batch   10/269 - Train Accuracy: 0.9424, Validation Accuracy: 0.9429, Loss: 2.6426\n",
      "Epoch   6 Batch   20/269 - Train Accuracy: 0.9528, Validation Accuracy: 0.9521, Loss: 2.6832\n",
      "Epoch   6 Batch   30/269 - Train Accuracy: 0.9438, Validation Accuracy: 0.9546, Loss: 2.6881\n",
      "Epoch   6 Batch   40/269 - Train Accuracy: 0.9319, Validation Accuracy: 0.9600, Loss: 2.6878\n",
      "Epoch   6 Batch   50/269 - Train Accuracy: 0.9254, Validation Accuracy: 0.9463, Loss: 2.6776\n",
      "Epoch   6 Batch   60/269 - Train Accuracy: 0.9516, Validation Accuracy: 0.9553, Loss: 2.6092\n",
      "Epoch   6 Batch   70/269 - Train Accuracy: 0.9427, Validation Accuracy: 0.9606, Loss: 2.6815\n",
      "Epoch   6 Batch   80/269 - Train Accuracy: 0.9462, Validation Accuracy: 0.9550, Loss: 2.6636\n",
      "Epoch   6 Batch   90/269 - Train Accuracy: 0.9504, Validation Accuracy: 0.9525, Loss: 2.6674\n",
      "Epoch   6 Batch  100/269 - Train Accuracy: 0.9540, Validation Accuracy: 0.9544, Loss: 2.6134\n",
      "Epoch   6 Batch  110/269 - Train Accuracy: 0.9435, Validation Accuracy: 0.9564, Loss: 2.6712\n",
      "Epoch   6 Batch  120/269 - Train Accuracy: 0.9502, Validation Accuracy: 0.9586, Loss: 2.6408\n",
      "Epoch   6 Batch  130/269 - Train Accuracy: 0.9502, Validation Accuracy: 0.9603, Loss: 2.6623\n",
      "Epoch   6 Batch  140/269 - Train Accuracy: 0.9534, Validation Accuracy: 0.9555, Loss: 2.6405\n",
      "Epoch   6 Batch  150/269 - Train Accuracy: 0.9480, Validation Accuracy: 0.9592, Loss: 2.6948\n",
      "Epoch   6 Batch  160/269 - Train Accuracy: 0.9405, Validation Accuracy: 0.9574, Loss: 2.6503\n",
      "Epoch   6 Batch  170/269 - Train Accuracy: 0.9456, Validation Accuracy: 0.9568, Loss: 2.6532\n",
      "Epoch   6 Batch  180/269 - Train Accuracy: 0.9585, Validation Accuracy: 0.9633, Loss: 2.6021\n",
      "Epoch   6 Batch  190/269 - Train Accuracy: 0.9564, Validation Accuracy: 0.9577, Loss: 2.6646\n",
      "Epoch   6 Batch  200/269 - Train Accuracy: 0.9425, Validation Accuracy: 0.9595, Loss: 2.6272\n",
      "Epoch   6 Batch  210/269 - Train Accuracy: 0.9463, Validation Accuracy: 0.9592, Loss: 2.6088\n",
      "Epoch   6 Batch  220/269 - Train Accuracy: 0.9448, Validation Accuracy: 0.9540, Loss: 2.6351\n"
     ]
    },
    {
     "name": "stdout",
     "output_type": "stream",
     "text": [
      "Epoch   6 Batch  230/269 - Train Accuracy: 0.9512, Validation Accuracy: 0.9585, Loss: 2.6558\n",
      "Epoch   6 Batch  240/269 - Train Accuracy: 0.9498, Validation Accuracy: 0.9598, Loss: 2.6360\n",
      "Epoch   6 Batch  250/269 - Train Accuracy: 0.9499, Validation Accuracy: 0.9619, Loss: 2.6501\n",
      "Epoch   6 Batch  260/269 - Train Accuracy: 0.9500, Validation Accuracy: 0.9704, Loss: 2.6765\n",
      "Epoch   7 Batch   10/269 - Train Accuracy: 0.9542, Validation Accuracy: 0.9538, Loss: 2.6601\n",
      "Epoch   7 Batch   20/269 - Train Accuracy: 0.9604, Validation Accuracy: 0.9639, Loss: 2.6393\n",
      "Epoch   7 Batch   30/269 - Train Accuracy: 0.9540, Validation Accuracy: 0.9588, Loss: 2.6401\n",
      "Epoch   7 Batch   40/269 - Train Accuracy: 0.9475, Validation Accuracy: 0.9637, Loss: 2.6746\n",
      "Epoch   7 Batch   50/269 - Train Accuracy: 0.9359, Validation Accuracy: 0.9600, Loss: 2.6640\n",
      "Epoch   7 Batch   60/269 - Train Accuracy: 0.9568, Validation Accuracy: 0.9625, Loss: 2.6749\n",
      "Epoch   7 Batch   70/269 - Train Accuracy: 0.9553, Validation Accuracy: 0.9664, Loss: 2.6366\n",
      "Epoch   7 Batch   80/269 - Train Accuracy: 0.9557, Validation Accuracy: 0.9622, Loss: 2.6430\n",
      "Epoch   7 Batch   90/269 - Train Accuracy: 0.9561, Validation Accuracy: 0.9632, Loss: 2.6444\n",
      "Epoch   7 Batch  100/269 - Train Accuracy: 0.9534, Validation Accuracy: 0.9628, Loss: 2.6163\n",
      "Epoch   7 Batch  110/269 - Train Accuracy: 0.9517, Validation Accuracy: 0.9620, Loss: 2.5796\n",
      "Epoch   7 Batch  120/269 - Train Accuracy: 0.9577, Validation Accuracy: 0.9615, Loss: 2.6723\n",
      "Epoch   7 Batch  130/269 - Train Accuracy: 0.9565, Validation Accuracy: 0.9609, Loss: 2.6289\n",
      "Epoch   7 Batch  140/269 - Train Accuracy: 0.9526, Validation Accuracy: 0.9627, Loss: 2.6539\n",
      "Epoch   7 Batch  150/269 - Train Accuracy: 0.9551, Validation Accuracy: 0.9663, Loss: 2.6404\n",
      "Epoch   7 Batch  160/269 - Train Accuracy: 0.9477, Validation Accuracy: 0.9690, Loss: 2.6764\n",
      "Epoch   7 Batch  170/269 - Train Accuracy: 0.9565, Validation Accuracy: 0.9597, Loss: 2.6233\n",
      "Epoch   7 Batch  180/269 - Train Accuracy: 0.9569, Validation Accuracy: 0.9695, Loss: 2.6586\n",
      "Epoch   7 Batch  190/269 - Train Accuracy: 0.9521, Validation Accuracy: 0.9622, Loss: 2.6086\n",
      "Epoch   7 Batch  200/269 - Train Accuracy: 0.9573, Validation Accuracy: 0.9691, Loss: 2.5919\n",
      "Epoch   7 Batch  210/269 - Train Accuracy: 0.9536, Validation Accuracy: 0.9608, Loss: 2.6175\n",
      "Epoch   7 Batch  220/269 - Train Accuracy: 0.9571, Validation Accuracy: 0.9644, Loss: 2.6660\n",
      "Epoch   7 Batch  230/269 - Train Accuracy: 0.9631, Validation Accuracy: 0.9629, Loss: 2.6239\n",
      "Epoch   7 Batch  240/269 - Train Accuracy: 0.9622, Validation Accuracy: 0.9624, Loss: 2.6326\n",
      "Epoch   7 Batch  250/269 - Train Accuracy: 0.9590, Validation Accuracy: 0.9602, Loss: 2.6343\n",
      "Epoch   7 Batch  260/269 - Train Accuracy: 0.9597, Validation Accuracy: 0.9699, Loss: 2.6551\n",
      "Model Trained and Saved\n"
     ]
    }
   ],
   "source": [
    "\"\"\"\n",
    "DON'T MODIFY ANYTHING IN THIS CELL\n",
    "\"\"\"\n",
    "def get_accuracy(target, logits):\n",
    "    \"\"\"\n",
    "    Calculate accuracy\n",
    "    \"\"\"\n",
    "    max_seq = max(target.shape[1], logits.shape[1])\n",
    "    if max_seq - target.shape[1]:\n",
    "        target = np.pad(\n",
    "            target,\n",
    "            [(0,0),(0,max_seq - target.shape[1])],\n",
    "            'constant')\n",
    "    if max_seq - logits.shape[1]:\n",
    "        logits = np.pad(\n",
    "            logits,\n",
    "            [(0,0),(0,max_seq - logits.shape[1])],\n",
    "            'constant')\n",
    "\n",
    "    return np.mean(np.equal(target, logits))\n",
    "\n",
    "# Split data to training and validation sets\n",
    "train_source = source_int_text[batch_size:]\n",
    "train_target = target_int_text[batch_size:]\n",
    "valid_source = source_int_text[:batch_size]\n",
    "valid_target = target_int_text[:batch_size]\n",
    "(valid_sources_batch, valid_targets_batch, valid_sources_lengths, valid_targets_lengths ) = next(get_batches(valid_source,\n",
    "                                                                                                             valid_target,\n",
    "                                                                                                             batch_size,\n",
    "                                                                                                             source_vocab_to_int['<PAD>'],\n",
    "                                                                                                             target_vocab_to_int['<PAD>']))                                                                                                  \n",
    "with tf.Session(graph=train_graph) as sess:\n",
    "    sess.run(tf.global_variables_initializer())\n",
    "\n",
    "    for epoch_i in range(epochs):\n",
    "        for batch_i, (source_batch, target_batch, sources_lengths, targets_lengths) in enumerate(\n",
    "                get_batches(train_source, train_target, batch_size,\n",
    "                            source_vocab_to_int['<PAD>'],\n",
    "                            target_vocab_to_int['<PAD>'])):\n",
    "\n",
    "            _, loss = sess.run(\n",
    "                [train_op, cost],\n",
    "                {input_data: source_batch,\n",
    "                 targets: target_batch,\n",
    "                 lr: learning_rate,\n",
    "                 target_sequence_length: targets_lengths,\n",
    "                 source_sequence_length: sources_lengths,\n",
    "                 keep_prob: keep_probability})\n",
    "\n",
    "\n",
    "            if batch_i % display_step == 0 and batch_i > 0:\n",
    "\n",
    "\n",
    "                batch_train_logits = sess.run(\n",
    "                    inference_logits,\n",
    "                    {input_data: source_batch,\n",
    "                     source_sequence_length: sources_lengths,\n",
    "                     target_sequence_length: targets_lengths,\n",
    "                     keep_prob: 1.0})\n",
    "\n",
    "\n",
    "                batch_valid_logits = sess.run(\n",
    "                    inference_logits,\n",
    "                    {input_data: valid_sources_batch,\n",
    "                     source_sequence_length: valid_sources_lengths,\n",
    "                     target_sequence_length: valid_targets_lengths,\n",
    "                     keep_prob: 1.0})\n",
    "\n",
    "                train_acc = get_accuracy(target_batch, batch_train_logits)\n",
    "\n",
    "                valid_acc = get_accuracy(valid_targets_batch, batch_valid_logits)\n",
    "\n",
    "                print('Epoch {:>3} Batch {:>4}/{} - Train Accuracy: {:>6.4f}, Validation Accuracy: {:>6.4f}, Loss: {:>6.4f}'\n",
    "                      .format(epoch_i, batch_i, len(source_int_text) // batch_size, train_acc, valid_acc, loss))\n",
    "\n",
    "    # Save Model\n",
    "    saver = tf.train.Saver()\n",
    "    saver.save(sess, save_path)\n",
    "    print('Model Trained and Saved')"
   ]
  },
  {
   "cell_type": "markdown",
   "metadata": {},
   "source": [
    "### Save Parameters\n",
    "Save the `batch_size` and `save_path` parameters for inference."
   ]
  },
  {
   "cell_type": "code",
   "execution_count": 19,
   "metadata": {
    "collapsed": true
   },
   "outputs": [],
   "source": [
    "\"\"\"\n",
    "DON'T MODIFY ANYTHING IN THIS CELL\n",
    "\"\"\"\n",
    "# Save parameters for checkpoint\n",
    "helper.save_params(save_path)"
   ]
  },
  {
   "cell_type": "markdown",
   "metadata": {},
   "source": [
    "# Checkpoint"
   ]
  },
  {
   "cell_type": "code",
   "execution_count": 20,
   "metadata": {
    "collapsed": true
   },
   "outputs": [],
   "source": [
    "\"\"\"\n",
    "DON'T MODIFY ANYTHING IN THIS CELL\n",
    "\"\"\"\n",
    "import tensorflow as tf\n",
    "import numpy as np\n",
    "import helper\n",
    "import problem_unittests as tests\n",
    "\n",
    "_, (source_vocab_to_int, target_vocab_to_int), (source_int_to_vocab, target_int_to_vocab) = helper.load_preprocess()\n",
    "load_path = helper.load_params()"
   ]
  },
  {
   "cell_type": "markdown",
   "metadata": {},
   "source": [
    "## Sentence to Sequence\n",
    "To feed a sentence into the model for translation, you first need to preprocess it.  Implement the function `sentence_to_seq()` to preprocess new sentences.\n",
    "\n",
    "- Convert the sentence to lowercase\n",
    "- Convert words into ids using `vocab_to_int`\n",
    " - Convert words not in the vocabulary, to the `<UNK>` word id."
   ]
  },
  {
   "cell_type": "code",
   "execution_count": 21,
   "metadata": {},
   "outputs": [
    {
     "name": "stdout",
     "output_type": "stream",
     "text": [
      "Tests Passed\n"
     ]
    }
   ],
   "source": [
    "def sentence_to_seq(sentence, vocab_to_int):\n",
    "    \"\"\"\n",
    "    Convert a sentence to a sequence of ids\n",
    "    :param sentence: String\n",
    "    :param vocab_to_int: Dictionary to go from the words to an id\n",
    "    :return: List of word ids\n",
    "    \"\"\"\n",
    "    # TODO: Implement Function\n",
    "    sentence = sentence.lower()\n",
    "    return [vocab_to_int.get(w, vocab_to_int['<UNK>']) for w in sentence.split()]\n",
    "\n",
    "\n",
    "\"\"\"\n",
    "DON'T MODIFY ANYTHING IN THIS CELL THAT IS BELOW THIS LINE\n",
    "\"\"\"\n",
    "tests.test_sentence_to_seq(sentence_to_seq)"
   ]
  },
  {
   "cell_type": "markdown",
   "metadata": {},
   "source": [
    "## Translate\n",
    "This will translate `translate_sentence` from English to French."
   ]
  },
  {
   "cell_type": "code",
   "execution_count": 32,
   "metadata": {},
   "outputs": [
    {
     "name": "stdout",
     "output_type": "stream",
     "text": [
      "INFO:tensorflow:Restoring parameters from checkpoints/dev\n",
      "Input\n",
      "  Word Ids:      [229, 66, 13, 87, 6, 119, 169]\n",
      "  English Words: ['he', 'saw', 'a', 'old', 'yellow', 'truck', '.']\n",
      "\n",
      "Prediction\n",
      "  Word Ids:      [316, 90, 305, 164, 250, 95, 319, 238, 1]\n",
      "  French Words: il a vu un vieux camion jaune . <EOS>\n"
     ]
    }
   ],
   "source": [
    "translate_sentence = 'he saw a old yellow truck .'\n",
    "\n",
    "\n",
    "\"\"\"\n",
    "DON'T MODIFY ANYTHING IN THIS CELL\n",
    "\"\"\"\n",
    "translate_sentence = sentence_to_seq(translate_sentence, source_vocab_to_int)\n",
    "\n",
    "loaded_graph = tf.Graph()\n",
    "with tf.Session(graph=loaded_graph) as sess:\n",
    "    # Load saved model\n",
    "    loader = tf.train.import_meta_graph(load_path + '.meta')\n",
    "    loader.restore(sess, load_path)\n",
    "\n",
    "    input_data = loaded_graph.get_tensor_by_name('input:0')\n",
    "    logits = loaded_graph.get_tensor_by_name('predictions:0')\n",
    "    target_sequence_length = loaded_graph.get_tensor_by_name('target_sequence_length:0')\n",
    "    source_sequence_length = loaded_graph.get_tensor_by_name('source_sequence_length:0')\n",
    "    keep_prob = loaded_graph.get_tensor_by_name('keep_prob:0')\n",
    "\n",
    "    translate_logits = sess.run(logits, {input_data: [translate_sentence]*batch_size,\n",
    "                                         target_sequence_length: [len(translate_sentence)*2]*batch_size,\n",
    "                                         source_sequence_length: [len(translate_sentence)]*batch_size,\n",
    "                                         keep_prob: 1.0})[0]\n",
    "\n",
    "print('Input')\n",
    "print('  Word Ids:      {}'.format([i for i in translate_sentence]))\n",
    "print('  English Words: {}'.format([source_int_to_vocab[i] for i in translate_sentence]))\n",
    "\n",
    "print('\\nPrediction')\n",
    "print('  Word Ids:      {}'.format([i for i in translate_logits]))\n",
    "print('  French Words: {}'.format(\" \".join([target_int_to_vocab[i] for i in translate_logits])))\n"
   ]
  },
  {
   "cell_type": "markdown",
   "metadata": {},
   "source": [
    "## Imperfect Translation\n",
    "You might notice that some sentences translate better than others.  Since the dataset you're using only has a vocabulary of 227 English words of the thousands that you use, you're only going to see good results using these words.  For this project, you don't need a perfect translation. However, if you want to create a better translation model, you'll need better data.\n",
    "\n",
    "You can train on the [WMT10 French-English corpus](http://www.statmt.org/wmt10/training-giga-fren.tar).  This dataset has more vocabulary and richer in topics discussed.  However, this will take you days to train, so make sure you've a GPU and the neural network is performing well on dataset we provided.  Just make sure you play with the WMT10 corpus after you've submitted this project.\n",
    "## Submitting This Project\n",
    "When submitting this project, make sure to run all the cells before saving the notebook. Save the notebook file as \"dlnd_language_translation.ipynb\" and save it as a HTML file under \"File\" -> \"Download as\". Include the \"helper.py\" and \"problem_unittests.py\" files in your submission."
   ]
  }
 ],
 "metadata": {
  "anaconda-cloud": {},
  "kernelspec": {
   "display_name": "Python 3",
   "language": "python",
   "name": "python3"
  },
  "language_info": {
   "codemirror_mode": {
    "name": "ipython",
    "version": 3
   },
   "file_extension": ".py",
   "mimetype": "text/x-python",
   "name": "python",
   "nbconvert_exporter": "python",
   "pygments_lexer": "ipython3",
   "version": "3.5.3"
  }
 },
 "nbformat": 4,
 "nbformat_minor": 1
}
